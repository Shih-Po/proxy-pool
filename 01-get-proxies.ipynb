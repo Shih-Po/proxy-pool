{
 "cells": [
  {
   "cell_type": "code",
   "execution_count": 212,
   "metadata": {
    "collapsed": true
   },
   "outputs": [],
   "source": [
    "import requests"
   ]
  },
  {
   "cell_type": "code",
   "execution_count": 213,
   "metadata": {
    "collapsed": false
   },
   "outputs": [],
   "source": [
    "def get_request_info():\n",
    "    res = requests.get('http://ifconfig.co/json')\n",
    "    return res.json()"
   ]
  },
  {
   "cell_type": "code",
   "execution_count": 214,
   "metadata": {
    "collapsed": false
   },
   "outputs": [
    {
     "data": {
      "text/plain": [
       "{'city': 'Taipei',\n",
       " 'country': 'Taiwan',\n",
       " 'hostname': '36-231-24-206.dynamic-ip.hinet.net',\n",
       " 'ip': '36.231.24.206',\n",
       " 'ip_decimal': 619124942}"
      ]
     },
     "execution_count": 214,
     "metadata": {},
     "output_type": "execute_result"
    }
   ],
   "source": [
    "j = get_request_info()\n",
    "j"
   ]
  },
  {
   "cell_type": "code",
   "execution_count": 215,
   "metadata": {
    "collapsed": false
   },
   "outputs": [
    {
     "data": {
      "text/plain": [
       "' \\r\\n<!DOCTYPE html>\\r\\n<html lang=\\'zh-CN\\'>\\r\\n<head>\\r\\n<meta charset=\\'gb2312\\'>\\r\\n<meta content=\\'IE=edge\\' http-equiv=\\'X-UA-Compatible\\'>\\r\\n<title>代理ip检测平台_免费代理ip</title>\\r\\n<meta name=\"keywords\" content=\"代理ip，代理ip检测，代理ip验证，可用代理ip，最新代理ip，今日可用代理ip，免费代理ip\">\\r\\n<meta name=\"description\" content=\"ip181是一家专为代理ip使用者打造的代理ip检测平台，这里不仅提供专业的代理ip验证服务，还为您提供最新的免费代理ip，实时更新代理ip。\">\\r\\n<link href=\"/ip181.css\" media=\"all\" rel=\"stylesheet\" />\\r\\n</head>\\r\\n<body>\\r\\n<style>\\r\\n\\r\\n.gx{\\r\\n\\tfont-size:14px;color:#666666;margin-left:10px;font-weight:100;\\r\\n\\r\\n}\\r\\n</style>\\r\\n<div class=\\'container mt40\\'>\\r\\n\\r\\n<div class=\\'panel  panel-default\\' style=\\'padding:10px;margin-bottom:20px;font-size:26px;text-align:center;\\'>代理ip检测平台</div>\\r\\n\\r\\n<script src=\"http://i.ip181.com/i.asp?k=dsiuf972ghkdfhg24egdsgs3gdsgfdh3gdfhdf\"></script>\\r\\n</div>\\r\\n\\r\\n\\r\\n\\r\\n<div class=\\'container mt40\\' style=\"margin-top:0px;\">\\r\\n<div class=\"panel panel-info\">\\r\\n<div class=\"panel-heading\" style=\"color:#57A29D;font-weight:bold;font-size:18px;\">\\r\\n100个精选代理IP送给您<span class=\"gx\">（每10分钟更新一次，30秒前更新）</span></span><span style=\\'margin-left:30px;\\'><a href=\\'/daili/1.html\\'>更多免费每日代理IP</a></span>\\r\\n<span style=\\'margin-left:30px;\\'><a href=\\'http://www.crsky.com/soft/103894.html\\' style=\"font-size:16px;color:#cc811b\" target=_blank>代理100（免费软件，每天100个一手高质量快速代理）</a></span>\\r\\n</div>\\r\\n<div class=\"panel-body\">\\r\\n<div class=\"row\">\\r\\n\\t\\r\\n<div class=\"col-md-12\" id=\"ice\">\\r\\n  \\r\\n</div>\\r\\n<div class=\"col-md-12\" style=\"font-size:14px;\">\\r\\n\\r\\n<table cellpadding=\"0\" cellspacing=\"0\" border=\"0\"  class=\\'table table-hover panel-default panel ctable\\'>\\r\\n<tbody><tr   class=\\'active\\'>\\r\\n<td>IP地址</td>\\r\\n\\t\\t<td>端口</td>\\r\\n\\t\\t<td>匿名等级</td>\\r\\n\\t\\t<td>代理类型</td>\\r\\n\\t\\t<td>响应时间</td>\\r\\n<td width=\"385\">地理位置</td>\\r\\n<td width=\"160\">最近验证时间</td>\\r\\n\\t</tr>\\r\\n\\r\\n\\r\\n                <tr>\\r\\n                    <td>118.193.107.62</td>\\r\\n                    <td>80</td>\\r\\n                    <td>普匿</td>\\r\\n\\t\\t    <td>HTTP</td>\\r\\n\\t\\t    <td>16.44 秒</td>\\r\\n\\t\\t    <td>北京市 CNISP未分配地址资源</td>\\r\\n\\t\\t    <td>35秒前</td>\\r\\n                </tr>\\r\\n\\t\\t\\r\\n                <tr class=\"warning'"
      ]
     },
     "execution_count": 215,
     "metadata": {},
     "output_type": "execute_result"
    }
   ],
   "source": [
    "res = requests.get('http://www.ip181.com/')\n",
    "res.encoding = 'gbk'\n",
    "res.text[:2000]"
   ]
  },
  {
   "cell_type": "code",
   "execution_count": 216,
   "metadata": {
    "collapsed": true
   },
   "outputs": [],
   "source": [
    "import pandas as pd\n",
    "from bs4 import BeautifulSoup"
   ]
  },
  {
   "cell_type": "code",
   "execution_count": 218,
   "metadata": {
    "collapsed": true
   },
   "outputs": [],
   "source": [
    "dfs = pd.read_html(res.text)"
   ]
  },
  {
   "cell_type": "code",
   "execution_count": 219,
   "metadata": {
    "collapsed": false
   },
   "outputs": [],
   "source": [
    "from fake_useragent import UserAgent\n",
    "ua = UserAgent()"
   ]
  },
  {
   "cell_type": "code",
   "execution_count": 220,
   "metadata": {
    "collapsed": false
   },
   "outputs": [],
   "source": [
    "url = 'http://www.ip181.com/'\n",
    "res = requests.get(url, {'user-agent': ua.random})\n",
    "res.encoding = 'gbk'"
   ]
  },
  {
   "cell_type": "code",
   "execution_count": 221,
   "metadata": {
    "collapsed": false
   },
   "outputs": [
    {
     "data": {
      "text/html": [
       "<div>\n",
       "<style>\n",
       "    .dataframe thead tr:only-child th {\n",
       "        text-align: right;\n",
       "    }\n",
       "\n",
       "    .dataframe thead th {\n",
       "        text-align: left;\n",
       "    }\n",
       "\n",
       "    .dataframe tbody tr th {\n",
       "        vertical-align: top;\n",
       "    }\n",
       "</style>\n",
       "<table border=\"1\" class=\"dataframe\">\n",
       "  <thead>\n",
       "    <tr style=\"text-align: right;\">\n",
       "      <th></th>\n",
       "      <th>IP地址</th>\n",
       "      <th>端口</th>\n",
       "      <th>匿名等级</th>\n",
       "      <th>代理类型</th>\n",
       "      <th>响应时间</th>\n",
       "      <th>地理位置</th>\n",
       "      <th>最近验证时间</th>\n",
       "    </tr>\n",
       "  </thead>\n",
       "  <tbody>\n",
       "    <tr>\n",
       "      <th>1</th>\n",
       "      <td>118.193.107.62</td>\n",
       "      <td>80</td>\n",
       "      <td>普匿</td>\n",
       "      <td>HTTP</td>\n",
       "      <td>16.44 秒</td>\n",
       "      <td>北京市 CNISP未分配地址资源</td>\n",
       "      <td>1分钟2秒前</td>\n",
       "    </tr>\n",
       "    <tr>\n",
       "      <th>2</th>\n",
       "      <td>118.178.227.171</td>\n",
       "      <td>80</td>\n",
       "      <td>高匿</td>\n",
       "      <td>HTTP</td>\n",
       "      <td>12.69 秒</td>\n",
       "      <td>浙江省杭州市 阿里云计算有限公司</td>\n",
       "      <td>1分钟8秒前</td>\n",
       "    </tr>\n",
       "    <tr>\n",
       "      <th>3</th>\n",
       "      <td>119.87.238.51</td>\n",
       "      <td>8123</td>\n",
       "      <td>高匿</td>\n",
       "      <td>HTTP,HTTPS</td>\n",
       "      <td>8.77 秒</td>\n",
       "      <td>重庆市 电信</td>\n",
       "      <td>1分钟9秒前</td>\n",
       "    </tr>\n",
       "  </tbody>\n",
       "</table>\n",
       "</div>"
      ],
      "text/plain": [
       "0             IP地址    端口 匿名等级        代理类型     响应时间              地理位置  最近验证时间\n",
       "1   118.193.107.62    80   普匿        HTTP  16.44 秒  北京市 CNISP未分配地址资源  1分钟2秒前\n",
       "2  118.178.227.171    80   高匿        HTTP  12.69 秒  浙江省杭州市 阿里云计算有限公司  1分钟8秒前\n",
       "3    119.87.238.51  8123   高匿  HTTP,HTTPS   8.77 秒            重庆市 电信  1分钟9秒前"
      ]
     },
     "execution_count": 221,
     "metadata": {},
     "output_type": "execute_result"
    }
   ],
   "source": [
    "df = pd.read_html(res.text)[0]\n",
    "df.columns = df.iloc[0]\n",
    "df = df.iloc[1:]\n",
    "df.head(3)"
   ]
  },
  {
   "cell_type": "code",
   "execution_count": 222,
   "metadata": {
    "collapsed": false
   },
   "outputs": [
    {
     "data": {
      "text/plain": [
       "普匿    58\n",
       "透明    22\n",
       "高匿    20\n",
       "Name: 匿名等级, dtype: int64"
      ]
     },
     "execution_count": 222,
     "metadata": {},
     "output_type": "execute_result"
    }
   ],
   "source": [
    "df['匿名等级'].value_counts()"
   ]
  },
  {
   "cell_type": "code",
   "execution_count": 223,
   "metadata": {
    "collapsed": false
   },
   "outputs": [
    {
     "data": {
      "text/html": [
       "<div>\n",
       "<style>\n",
       "    .dataframe thead tr:only-child th {\n",
       "        text-align: right;\n",
       "    }\n",
       "\n",
       "    .dataframe thead th {\n",
       "        text-align: left;\n",
       "    }\n",
       "\n",
       "    .dataframe tbody tr th {\n",
       "        vertical-align: top;\n",
       "    }\n",
       "</style>\n",
       "<table border=\"1\" class=\"dataframe\">\n",
       "  <thead>\n",
       "    <tr style=\"text-align: right;\">\n",
       "      <th></th>\n",
       "      <th>ip</th>\n",
       "      <th>port</th>\n",
       "      <th>level</th>\n",
       "      <th>http_s</th>\n",
       "      <th>response_time</th>\n",
       "      <th>location</th>\n",
       "      <th>last_check_time</th>\n",
       "    </tr>\n",
       "  </thead>\n",
       "  <tbody>\n",
       "    <tr>\n",
       "      <th>1</th>\n",
       "      <td>118.193.107.62</td>\n",
       "      <td>80</td>\n",
       "      <td>普匿</td>\n",
       "      <td>HTTP</td>\n",
       "      <td>16.44 秒</td>\n",
       "      <td>北京市 CNISP未分配地址资源</td>\n",
       "      <td>1分钟2秒前</td>\n",
       "    </tr>\n",
       "    <tr>\n",
       "      <th>2</th>\n",
       "      <td>118.178.227.171</td>\n",
       "      <td>80</td>\n",
       "      <td>高匿</td>\n",
       "      <td>HTTP</td>\n",
       "      <td>12.69 秒</td>\n",
       "      <td>浙江省杭州市 阿里云计算有限公司</td>\n",
       "      <td>1分钟8秒前</td>\n",
       "    </tr>\n",
       "    <tr>\n",
       "      <th>3</th>\n",
       "      <td>119.87.238.51</td>\n",
       "      <td>8123</td>\n",
       "      <td>高匿</td>\n",
       "      <td>HTTP,HTTPS</td>\n",
       "      <td>8.77 秒</td>\n",
       "      <td>重庆市 电信</td>\n",
       "      <td>1分钟9秒前</td>\n",
       "    </tr>\n",
       "  </tbody>\n",
       "</table>\n",
       "</div>"
      ],
      "text/plain": [
       "                ip  port level      http_s response_time          location  \\\n",
       "1   118.193.107.62    80    普匿        HTTP       16.44 秒  北京市 CNISP未分配地址资源   \n",
       "2  118.178.227.171    80    高匿        HTTP       12.69 秒  浙江省杭州市 阿里云计算有限公司   \n",
       "3    119.87.238.51  8123    高匿  HTTP,HTTPS        8.77 秒            重庆市 电信   \n",
       "\n",
       "  last_check_time  \n",
       "1          1分钟2秒前  \n",
       "2          1分钟8秒前  \n",
       "3          1分钟9秒前  "
      ]
     },
     "execution_count": 223,
     "metadata": {},
     "output_type": "execute_result"
    }
   ],
   "source": [
    "df.columns = ['ip', 'port', 'level', 'http_s', \n",
    "              'response_time', 'location', 'last_check_time']\n",
    "\n",
    "df.head(3)"
   ]
  },
  {
   "cell_type": "code",
   "execution_count": 224,
   "metadata": {
    "collapsed": false
   },
   "outputs": [],
   "source": [
    "proxy_list = list(df['ip'] + ':' + df['port'])"
   ]
  },
  {
   "cell_type": "code",
   "execution_count": 225,
   "metadata": {
    "collapsed": false
   },
   "outputs": [
    {
     "data": {
      "text/plain": [
       "['118.193.107.62:80',\n",
       " '118.178.227.171:80',\n",
       " '119.87.238.51:8123',\n",
       " '118.193.107.109:80',\n",
       " '125.62.12.68:80',\n",
       " '121.31.193.14:8123',\n",
       " '112.114.98.136:8118',\n",
       " '118.193.107.30:80',\n",
       " '210.26.125.142:8080',\n",
       " '221.7.255.168:8080']"
      ]
     },
     "execution_count": 225,
     "metadata": {},
     "output_type": "execute_result"
    }
   ],
   "source": [
    "proxy_list[:10]"
   ]
  },
  {
   "cell_type": "code",
   "execution_count": 226,
   "metadata": {
    "collapsed": false
   },
   "outputs": [
    {
     "name": "stdout",
     "output_type": "stream",
     "text": [
      "118.193.107.62:80\n",
      "118.178.227.171:80\n",
      "119.87.238.51:8123\n"
     ]
    }
   ],
   "source": [
    "for p in proxy_list[:3]:\n",
    "    print(p)"
   ]
  },
  {
   "cell_type": "code",
   "execution_count": 227,
   "metadata": {
    "collapsed": false
   },
   "outputs": [],
   "source": [
    "from datetime import datetime\n",
    "\n",
    "def get_request_info_with_proxy(proxy):\n",
    "    start = datetime.now()\n",
    "    \n",
    "    try:\n",
    "        r = requests.get('http://ifconfig.co/json', \n",
    "                         proxies={'http': proxy},\n",
    "                         headers={'user-agent': ua.random},\n",
    "                         timeout=10)\n",
    "\n",
    "        rs_info = r.json()\n",
    "        rs_info['response_time'] = (datetime.now() - start).total_seconds()\n",
    "    except Exception as e:\n",
    "        rs_info = {\n",
    "            'exception': type(e),\n",
    "            'ip': None,\n",
    "            'ip_decimal': None,\n",
    "            'country': None,\n",
    "            'city': None,\n",
    "            'response_time': None\n",
    "        }\n",
    "        \n",
    "    rs_info['proxy'] = proxy\n",
    "    rs_info['proxy_available'] = rs_info['ip'] == rs_info['proxy'].split(':')[0]\n",
    "    return rs_info"
   ]
  },
  {
   "cell_type": "code",
   "execution_count": 228,
   "metadata": {
    "collapsed": false
   },
   "outputs": [
    {
     "data": {
      "text/plain": [
       "{'city': 'Beijing',\n",
       " 'country': 'China',\n",
       " 'ip': '116.196.119.138',\n",
       " 'ip_decimal': 1959032714,\n",
       " 'proxy': '116.196.119.138:3128',\n",
       " 'proxy_available': True,\n",
       " 'response_time': 6.901867}"
      ]
     },
     "execution_count": 228,
     "metadata": {},
     "output_type": "execute_result"
    }
   ],
   "source": [
    "get_request_info_with_proxy(proxies_list[90])"
   ]
  },
  {
   "cell_type": "code",
   "execution_count": 229,
   "metadata": {
    "collapsed": false
   },
   "outputs": [
    {
     "name": "stderr",
     "output_type": "stream",
     "text": [
      "100%|██████████| 100/100 [12:19<00:00, 10.91s/it]\n"
     ]
    }
   ],
   "source": [
    "import time\n",
    "from tqdm import tqdm\n",
    "\n",
    "\n",
    "frame = []\n",
    "for proxy in tqdm(proxies_list):\n",
    "    info = get_request_info_with_proxy(proxy)\n",
    "    frame.append(info)\n",
    "    time.sleep(1)"
   ]
  },
  {
   "cell_type": "code",
   "execution_count": 161,
   "metadata": {
    "collapsed": false
   },
   "outputs": [
    {
     "data": {
      "text/plain": [
       "{'city': None,\n",
       " 'country': None,\n",
       " 'exception': requests.exceptions.ReadTimeout(urllib3.exceptions.ReadTimeoutError(\"HTTPConnectionPool(host='111.56.5.41', port=80): Read timed out. (read timeout=10)\")),\n",
       " 'ip': None,\n",
       " 'ip_decimal': None,\n",
       " 'proxy': '111.56.5.41:80',\n",
       " 'proxy_available': False,\n",
       " 'response_time': None}"
      ]
     },
     "execution_count": 161,
     "metadata": {},
     "output_type": "execute_result"
    }
   ],
   "source": [
    "get_request_info_with_proxy(p)"
   ]
  },
  {
   "cell_type": "code",
   "execution_count": 163,
   "metadata": {
    "collapsed": false
   },
   "outputs": [
    {
     "data": {
      "text/html": [
       "<div>\n",
       "<style>\n",
       "    .dataframe thead tr:only-child th {\n",
       "        text-align: right;\n",
       "    }\n",
       "\n",
       "    .dataframe thead th {\n",
       "        text-align: left;\n",
       "    }\n",
       "\n",
       "    .dataframe tbody tr th {\n",
       "        vertical-align: top;\n",
       "    }\n",
       "</style>\n",
       "<table border=\"1\" class=\"dataframe\">\n",
       "  <thead>\n",
       "    <tr style=\"text-align: right;\">\n",
       "      <th></th>\n",
       "      <th>city</th>\n",
       "      <th>country</th>\n",
       "      <th>exception</th>\n",
       "      <th>hostname</th>\n",
       "      <th>ip</th>\n",
       "      <th>ip_decimal</th>\n",
       "      <th>proxy</th>\n",
       "      <th>proxy_available</th>\n",
       "      <th>response_time</th>\n",
       "    </tr>\n",
       "  </thead>\n",
       "  <tbody>\n",
       "    <tr>\n",
       "      <th>21</th>\n",
       "      <td>Chongqing</td>\n",
       "      <td>China</td>\n",
       "      <td>NaN</td>\n",
       "      <td>NaN</td>\n",
       "      <td>113.207.27.84</td>\n",
       "      <td>1.909398e+09</td>\n",
       "      <td>113.207.27.84:3128</td>\n",
       "      <td>True</td>\n",
       "      <td>0.659555</td>\n",
       "    </tr>\n",
       "    <tr>\n",
       "      <th>45</th>\n",
       "      <td>Guangzhou</td>\n",
       "      <td>China</td>\n",
       "      <td>NaN</td>\n",
       "      <td>NaN</td>\n",
       "      <td>116.199.2.208</td>\n",
       "      <td>1.959199e+09</td>\n",
       "      <td>116.199.2.208:80</td>\n",
       "      <td>True</td>\n",
       "      <td>0.665322</td>\n",
       "    </tr>\n",
       "    <tr>\n",
       "      <th>10</th>\n",
       "      <td>Chongqing</td>\n",
       "      <td>China</td>\n",
       "      <td>NaN</td>\n",
       "      <td>NaN</td>\n",
       "      <td>123.147.165.143</td>\n",
       "      <td>2.073274e+09</td>\n",
       "      <td>123.147.165.143:8080</td>\n",
       "      <td>True</td>\n",
       "      <td>0.755805</td>\n",
       "    </tr>\n",
       "    <tr>\n",
       "      <th>47</th>\n",
       "      <td>Changsha</td>\n",
       "      <td>China</td>\n",
       "      <td>NaN</td>\n",
       "      <td>NaN</td>\n",
       "      <td>183.214.162.196</td>\n",
       "      <td>3.084297e+09</td>\n",
       "      <td>119.36.92.46:80</td>\n",
       "      <td>False</td>\n",
       "      <td>0.813416</td>\n",
       "    </tr>\n",
       "    <tr>\n",
       "      <th>51</th>\n",
       "      <td>Unknown</td>\n",
       "      <td>China</td>\n",
       "      <td>NaN</td>\n",
       "      <td>NaN</td>\n",
       "      <td>120.237.91.34</td>\n",
       "      <td>2.028821e+09</td>\n",
       "      <td>120.237.91.34:9797</td>\n",
       "      <td>True</td>\n",
       "      <td>0.848075</td>\n",
       "    </tr>\n",
       "    <tr>\n",
       "      <th>11</th>\n",
       "      <td>Guangzhou</td>\n",
       "      <td>China</td>\n",
       "      <td>NaN</td>\n",
       "      <td>NaN</td>\n",
       "      <td>116.199.2.209</td>\n",
       "      <td>1.959199e+09</td>\n",
       "      <td>116.199.2.209:80</td>\n",
       "      <td>True</td>\n",
       "      <td>0.862768</td>\n",
       "    </tr>\n",
       "    <tr>\n",
       "      <th>40</th>\n",
       "      <td>Hangzhou</td>\n",
       "      <td>China</td>\n",
       "      <td>NaN</td>\n",
       "      <td>NaN</td>\n",
       "      <td>121.43.178.58</td>\n",
       "      <td>2.032907e+09</td>\n",
       "      <td>121.43.178.58:3128</td>\n",
       "      <td>True</td>\n",
       "      <td>0.909370</td>\n",
       "    </tr>\n",
       "    <tr>\n",
       "      <th>61</th>\n",
       "      <td>Yichang</td>\n",
       "      <td>China</td>\n",
       "      <td>NaN</td>\n",
       "      <td>NaN</td>\n",
       "      <td>219.139.130.49</td>\n",
       "      <td>3.683353e+09</td>\n",
       "      <td>219.139.130.49:80</td>\n",
       "      <td>True</td>\n",
       "      <td>0.925450</td>\n",
       "    </tr>\n",
       "    <tr>\n",
       "      <th>41</th>\n",
       "      <td>Changsha</td>\n",
       "      <td>China</td>\n",
       "      <td>NaN</td>\n",
       "      <td>NaN</td>\n",
       "      <td>183.214.162.188</td>\n",
       "      <td>3.084297e+09</td>\n",
       "      <td>119.36.92.47:80</td>\n",
       "      <td>False</td>\n",
       "      <td>0.950258</td>\n",
       "    </tr>\n",
       "    <tr>\n",
       "      <th>0</th>\n",
       "      <td>Guangzhou</td>\n",
       "      <td>China</td>\n",
       "      <td>NaN</td>\n",
       "      <td>NaN</td>\n",
       "      <td>219.135.164.245</td>\n",
       "      <td>3.683100e+09</td>\n",
       "      <td>219.135.164.245:3128</td>\n",
       "      <td>True</td>\n",
       "      <td>1.018491</td>\n",
       "    </tr>\n",
       "  </tbody>\n",
       "</table>\n",
       "</div>"
      ],
      "text/plain": [
       "         city country exception hostname               ip    ip_decimal  \\\n",
       "21  Chongqing   China       NaN      NaN    113.207.27.84  1.909398e+09   \n",
       "45  Guangzhou   China       NaN      NaN    116.199.2.208  1.959199e+09   \n",
       "10  Chongqing   China       NaN      NaN  123.147.165.143  2.073274e+09   \n",
       "47   Changsha   China       NaN      NaN  183.214.162.196  3.084297e+09   \n",
       "51    Unknown   China       NaN      NaN    120.237.91.34  2.028821e+09   \n",
       "11  Guangzhou   China       NaN      NaN    116.199.2.209  1.959199e+09   \n",
       "40   Hangzhou   China       NaN      NaN    121.43.178.58  2.032907e+09   \n",
       "61    Yichang   China       NaN      NaN   219.139.130.49  3.683353e+09   \n",
       "41   Changsha   China       NaN      NaN  183.214.162.188  3.084297e+09   \n",
       "0   Guangzhou   China       NaN      NaN  219.135.164.245  3.683100e+09   \n",
       "\n",
       "                   proxy  proxy_available  response_time  \n",
       "21    113.207.27.84:3128             True       0.659555  \n",
       "45      116.199.2.208:80             True       0.665322  \n",
       "10  123.147.165.143:8080             True       0.755805  \n",
       "47       119.36.92.46:80            False       0.813416  \n",
       "51    120.237.91.34:9797             True       0.848075  \n",
       "11      116.199.2.209:80             True       0.862768  \n",
       "40    121.43.178.58:3128             True       0.909370  \n",
       "61     219.139.130.49:80             True       0.925450  \n",
       "41       119.36.92.47:80            False       0.950258  \n",
       "0   219.135.164.245:3128             True       1.018491  "
      ]
     },
     "execution_count": 163,
     "metadata": {},
     "output_type": "execute_result"
    }
   ],
   "source": [
    "df = pd.DataFrame(frame)\n",
    "df.query('response_time == response_time').sort_values('response_time').head(10)"
   ]
  },
  {
   "cell_type": "code",
   "execution_count": 182,
   "metadata": {
    "collapsed": false
   },
   "outputs": [
    {
     "data": {
      "text/plain": [
       "44"
      ]
     },
     "execution_count": 182,
     "metadata": {},
     "output_type": "execute_result"
    }
   ],
   "source": [
    "cols = ['proxy', 'proxy_available', 'response_time']\n",
    "\n",
    "(df.query('response_time == response_time')\n",
    "   .sort_values('response_time')\n",
    "   .query('proxy_available == True')[cols].pipe(len))"
   ]
  },
  {
   "cell_type": "code",
   "execution_count": 179,
   "metadata": {
    "collapsed": false
   },
   "outputs": [
    {
     "data": {
      "text/plain": [
       "requests.exceptions.ReadTimeout"
      ]
     },
     "execution_count": 179,
     "metadata": {},
     "output_type": "execute_result"
    }
   ],
   "source": [
    "type(df['exception'].dropna().tolist().pop())"
   ]
  },
  {
   "cell_type": "code",
   "execution_count": 181,
   "metadata": {
    "collapsed": false
   },
   "outputs": [
    {
     "name": "stdout",
     "output_type": "stream",
     "text": [
      "<class 'pandas.core.frame.DataFrame'>\n",
      "RangeIndex: 100 entries, 0 to 99\n",
      "Data columns (total 9 columns):\n",
      "city               48 non-null object\n",
      "country            48 non-null object\n",
      "exception          52 non-null object\n",
      "hostname           4 non-null object\n",
      "ip                 48 non-null object\n",
      "ip_decimal         48 non-null float64\n",
      "proxy              100 non-null object\n",
      "proxy_available    100 non-null bool\n",
      "response_time      48 non-null float64\n",
      "dtypes: bool(1), float64(2), object(6)\n",
      "memory usage: 32.9 KB\n"
     ]
    }
   ],
   "source": [
    "df.info(memory_usage='deep')"
   ]
  },
  {
   "cell_type": "code",
   "execution_count": 193,
   "metadata": {
    "collapsed": false
   },
   "outputs": [
    {
     "data": {
      "text/html": [
       "<div>\n",
       "<style>\n",
       "    .dataframe thead tr:only-child th {\n",
       "        text-align: right;\n",
       "    }\n",
       "\n",
       "    .dataframe thead th {\n",
       "        text-align: left;\n",
       "    }\n",
       "\n",
       "    .dataframe tbody tr th {\n",
       "        vertical-align: top;\n",
       "    }\n",
       "</style>\n",
       "<table border=\"1\" class=\"dataframe\">\n",
       "  <thead>\n",
       "    <tr style=\"text-align: right;\">\n",
       "      <th></th>\n",
       "      <th>proxy</th>\n",
       "      <th>response_time</th>\n",
       "    </tr>\n",
       "  </thead>\n",
       "  <tbody>\n",
       "    <tr>\n",
       "      <th>21</th>\n",
       "      <td>113.207.27.84:3128</td>\n",
       "      <td>0.659555</td>\n",
       "    </tr>\n",
       "    <tr>\n",
       "      <th>45</th>\n",
       "      <td>116.199.2.208:80</td>\n",
       "      <td>0.665322</td>\n",
       "    </tr>\n",
       "    <tr>\n",
       "      <th>10</th>\n",
       "      <td>123.147.165.143:8080</td>\n",
       "      <td>0.755805</td>\n",
       "    </tr>\n",
       "  </tbody>\n",
       "</table>\n",
       "</div>"
      ],
      "text/plain": [
       "                   proxy  response_time\n",
       "21    113.207.27.84:3128       0.659555\n",
       "45      116.199.2.208:80       0.665322\n",
       "10  123.147.165.143:8080       0.755805"
      ]
     },
     "execution_count": 193,
     "metadata": {},
     "output_type": "execute_result"
    }
   ],
   "source": [
    "df.query('response_time < 5').sort_values('response_time')[['proxy', 'response_time']].head(3)"
   ]
  },
  {
   "cell_type": "code",
   "execution_count": 200,
   "metadata": {
    "collapsed": false
   },
   "outputs": [
    {
     "data": {
      "text/plain": [
       "{'city': 'Chongqing',\n",
       " 'country': 'China',\n",
       " 'ip': '113.207.27.84',\n",
       " 'ip_decimal': 1909398356,\n",
       " 'proxy': '113.207.27.84:3128',\n",
       " 'proxy_available': True,\n",
       " 'response_time': 0.679468}"
      ]
     },
     "execution_count": 200,
     "metadata": {},
     "output_type": "execute_result"
    }
   ],
   "source": [
    "get_request_info_with_proxy('113.207.27.84:3128')"
   ]
  },
  {
   "cell_type": "code",
   "execution_count": null,
   "metadata": {
    "collapsed": true
   },
   "outputs": [],
   "source": []
  }
 ],
 "metadata": {
  "kernelspec": {
   "display_name": "3point6",
   "language": "python",
   "name": "3point6"
  },
  "language_info": {
   "codemirror_mode": {
    "name": "ipython",
    "version": 3
   },
   "file_extension": ".py",
   "mimetype": "text/x-python",
   "name": "python",
   "nbconvert_exporter": "python",
   "pygments_lexer": "ipython3",
   "version": "3.6.1"
  }
 },
 "nbformat": 4,
 "nbformat_minor": 0
}
